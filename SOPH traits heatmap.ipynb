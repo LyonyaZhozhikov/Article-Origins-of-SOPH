{
 "cells": [
  {
   "cell_type": "code",
   "execution_count": null,
   "id": "5892b05a",
   "metadata": {},
   "outputs": [],
   "source": [
    "import numpy as np\n",
    "import pandas as pd\n",
    "import seaborn as sns\n",
    "import matplotlib.pyplot as plt"
   ]
  },
  {
   "cell_type": "code",
   "execution_count": null,
   "id": "0ecf2cf4",
   "metadata": {},
   "outputs": [],
   "source": [
    "# Read the Pharma Sector data \n",
    "df = pd.read_csv(\"data\\\\heatmap_data.csv\")\n",
    "pivot_table = df.pivot('Trait', 'Group', 'Percentage').head().T\n",
    "\n",
    "plt.figure(figsize=(14,5), dpi=300)\n",
    "pivot_table = df.pivot('Trait', 'Group', 'Percentage').T\n",
    "\n",
    "heatmap = sns.heatmap(pivot_table, annot=False, fmt=\".1f\", linewidths=.5, square = True, cmap = 'Greens');\n",
    "plt.xticks(rotation=30)"
   ]
  },
  {
   "cell_type": "code",
   "execution_count": null,
   "id": "43f9f15e",
   "metadata": {},
   "outputs": [],
   "source": [
    "heatmap.figure.savefig('figures\\\\heatmap.jpeg', dpi=300)"
   ]
  }
 ],
 "metadata": {
  "kernelspec": {
   "display_name": "Python 3 (ipykernel)",
   "language": "python",
   "name": "python3"
  },
  "language_info": {
   "codemirror_mode": {
    "name": "ipython",
    "version": 3
   },
   "file_extension": ".py",
   "mimetype": "text/x-python",
   "name": "python",
   "nbconvert_exporter": "python",
   "pygments_lexer": "ipython3",
   "version": "3.7.13"
  }
 },
 "nbformat": 4,
 "nbformat_minor": 5
}
